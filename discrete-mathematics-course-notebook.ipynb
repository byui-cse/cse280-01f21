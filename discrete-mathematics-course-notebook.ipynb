{
 "cells": [
  {
   "cell_type": "markdown",
   "metadata": {
    "id": "tk6nSj5UYWET"
   },
   "source": [
    "# <font color=blue>Discrete Mathematics Course Notebook</font>\n",
    "## <font color=blue>CSE 280 01</font>\n",
    "### <font color=blue>Fall 2021</font>"
   ]
  },
  {
   "cell_type": "markdown",
   "metadata": {
    "id": "NgeEB8Bu0lIR"
   },
   "source": [
    "## <font color=red>Week 01: Introduction</font>"
   ]
  },
  {
   "cell_type": "markdown",
   "metadata": {
    "id": "QjabZgxL_dk6"
   },
   "source": [
    "[What is Discrete Mathematics?](https://colab.research.google.com/github/byui-cse/cse280-01f21/blob/main/what-is-discrete-mathematics.ipynb)"
   ]
  },
  {
   "cell_type": "markdown",
   "metadata": {
    "id": "-hE6H865kovL"
   },
   "source": [
    "[Chapter 1 Introductions Exercises](https://colab.research.google.com/github/byui-cse/cse280-01f21/blob/main/chapter-1-introductions-exercises.ipynb)"
   ]
  },
  {
   "cell_type": "markdown",
   "metadata": {
    "id": "cXDFp9-H15se"
   },
   "source": [
    "## <font color=red>Week 02: Sets and Logic</font>"
   ]
  },
  {
   "cell_type": "markdown",
   "metadata": {
    "id": "ucvVlAooCJQg"
   },
   "source": [
    "[Chapter 2 Sets and Logic Exercises](https://colab.research.google.com/github/byui-cse/cse280-01f21/blob/main/chapter-2-sets-and-logic-exercises.ipynb)"
   ]
  },
  {
   "cell_type": "markdown",
   "metadata": {
    "id": "-_vak8OaCT9i"
   },
   "source": [
    "[Think Logic](https://colab.research.google.com/github/byui-cse/cse280-01f21/blob/main/think-logic.ipynb)"
   ]
  },
  {
   "cell_type": "markdown",
   "metadata": {
    "id": "ktNIvALm150N"
   },
   "source": [
    "## <font color=red>Week 03: Functions</font>"
   ]
  },
  {
   "cell_type": "markdown",
   "metadata": {
    "id": "CPKLDDJJuaBe"
   },
   "source": [
    "[Chapter 3 Functions Exercises](https://colab.research.google.com/github/byui-cse/cse280-01f21/blob/main/chapter-3-functions-exercises.ipynb)"
   ]
  },
  {
   "cell_type": "markdown",
   "metadata": {
    "id": "g3MDaTqn155H"
   },
   "source": [
    "## <font color=red>Week 04: Predicates and Quantifiers</font>"
   ]
  },
  {
   "cell_type": "markdown",
   "metadata": {
    "id": "MLPn6uIBvm5I"
   },
   "source": [
    "[Chapter 3 Predicates and Quantifiers Exercises](https://colab.research.google.com/github/byui-cse/cse280-01f21/blob/main/chapter-3-predicates-and-quantifiers-exercises.ipynb)"
   ]
  },
  {
   "cell_type": "markdown",
   "metadata": {
    "id": "8pkhawEgva8V"
   },
   "source": [
    "## <font color=red>Week 05: Relations</font>"
   ]
  },
  {
   "cell_type": "markdown",
   "metadata": {
    "id": "pX-KsO8UyBVR"
   },
   "source": [
    "[Chapter 4 Relations Exercises](https://colab.research.google.com/github/byui-cse/cse280-01f21/blob/main/chapter-4-relations-exercises.ipynb)"
   ]
  },
  {
   "cell_type": "markdown",
   "metadata": {
    "id": "0rvsHgvM1580"
   },
   "source": [
    "## <font color=red>Week 06: Combinatorics and Probability</font>"
   ]
  },
  {
   "cell_type": "markdown",
   "metadata": {
    "id": "7vjWwfTuzgAV"
   },
   "source": [
    "[Chapter 5 Combinatorics and Probability Exercises](https://colab.research.google.com/github/byui-cse/cse280-01f21/blob/main/chapter-5-combinatorics-and-probability-exercises.ipynb)"
   ]
  },
  {
   "cell_type": "markdown",
   "metadata": {
    "id": "5bX1dtPg16Dq"
   },
   "source": [
    "## <font color=red>Week 07: Some Ideas of Number Theory </font>"
   ]
  },
  {
   "cell_type": "markdown",
   "metadata": {
    "id": "NAWDyr0UzmQG"
   },
   "source": [
    "[Chapter 6 Some Ideas of Number Theory Exercises](https://colab.research.google.com/github/byui-cse/cse280-01f21/blob/main/chapter-6-number-theory-and-practice-exercises.ipynb)\n"
   ]
  },
  {
   "cell_type": "markdown",
   "metadata": {
    "id": "usYKES7E16Gp"
   },
   "source": [
    "## <font color=red>Week 08: The Practice of Number Theory</font>"
   ]
  },
  {
   "cell_type": "markdown",
   "metadata": {
    "id": "Zlc2_eFrzt3A"
   },
   "source": [
    "[Chapter 6 The Practice of Number Theory Exercises](https://colab.research.google.com/github/byui-cse/cse280-01f21/blob/main/chapter-6-number-theory-and-practice-exercises.ipynb)"
   ]
  },
  {
   "cell_type": "markdown",
   "metadata": {
    "id": "UnFn3uKO16KV"
   },
   "source": [
    "## <font color=red>Week 09: Trees</font>"
   ]
  },
  {
   "cell_type": "markdown",
   "metadata": {
    "id": "qIG7YlU6zzef"
   },
   "source": [
    "[Chapter 7 Trees Exercises](https://colab.research.google.com/github/byui-cse/cse280-01f21/blob/main/chapter-7-trees-exercises.ipynb)"
   ]
  },
  {
   "cell_type": "markdown",
   "metadata": {
    "id": "Vd2UZ0l-16N2"
   },
   "source": [
    "## <font color=red>Week 10: Huffman Trees</font>"
   ]
  },
  {
   "cell_type": "markdown",
   "metadata": {
    "id": "vSU5kH1kz8v7"
   },
   "source": [
    "[Chapter 7 Huffman Trees Exercises](https://colab.research.google.com/github/byui-cse/cse280-01f21/blob/main/chapter-7-huffman-trees-exercises.ipynb)\n"
   ]
  },
  {
   "cell_type": "markdown",
   "metadata": {
    "id": "rK1LxaUa16Sc"
   },
   "source": [
    "## <font color=red>Week 11: Graphs</font>"
   ]
  },
  {
   "cell_type": "markdown",
   "metadata": {
    "id": "H1HtWLi20Af2"
   },
   "source": [
    "[Chapter 8 Graphs Exercises](https://colab.research.google.com/github/byui-cse/cse280-01f21/blob/main/chapter-8-graphs-exercises.ipynb)"
   ]
  },
  {
   "cell_type": "markdown",
   "metadata": {
    "id": "xlionf9U16YF"
   },
   "source": [
    "## <font color=red>Week 12: More Graphs</font>"
   ]
  },
  {
   "cell_type": "markdown",
   "metadata": {
    "id": "q5_u6CFERmDW"
   },
   "source": [
    "[Chapter 8 More Graphs Exercises](https://colab.research.google.com/github/byui-cse/cse280-01f21/blob/main/chapter-8-graphs-exercises.ipynb)"
   ]
  },
  {
   "cell_type": "markdown",
   "metadata": {
    "id": "HXwxqgD416ew"
   },
   "source": [
    "## <font color=red>Week 13: Languages and Grammars</font>"
   ]
  },
  {
   "cell_type": "markdown",
   "metadata": {
    "id": "4ox7s-v1b4Am"
   },
   "source": [
    "[Chapter 9 Languages and Grammars Exercises](https://colab.research.google.com/github/byui-cse/cse280-01f21/blob/main/chapter-9-languages-and-grammars-exercises.ipynb)\n"
   ]
  }
 ],
 "metadata": {
  "colab": {
   "authorship_tag": "ABX9TyNAYPKBcNXyZNAAevD9N6Og",
   "name": "discrete-mathematics-course-notebook.ipynb",
   "private_outputs": true,
   "provenance": []
  },
  "kernelspec": {
   "display_name": "Python 3",
   "language": "python",
   "name": "python3"
  },
  "language_info": {
   "codemirror_mode": {
    "name": "ipython",
    "version": 3
   },
   "file_extension": ".py",
   "mimetype": "text/x-python",
   "name": "python",
   "nbconvert_exporter": "python",
   "pygments_lexer": "ipython3",
   "version": "3.9.0"
  }
 },
 "nbformat": 4,
 "nbformat_minor": 1
}
